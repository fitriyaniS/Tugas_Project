{
 "cells": [
  {
   "cell_type": "code",
   "execution_count": 5,
   "id": "90a1acd6-45df-4a01-8d39-e2bf91d288b2",
   "metadata": {},
   "outputs": [
    {
     "name": "stdout",
     "output_type": "stream",
     "text": [
      "C:\\WPy64-31040\\notebooks\n",
      "There are 1 no of faces in this image\n"
     ]
    },
    {
     "data": {
      "text/plain": [
       "-1"
      ]
     },
     "execution_count": 5,
     "metadata": {},
     "output_type": "execute_result"
    }
   ],
   "source": [
    "# -*- coding: utf-8 -*-\n",
    "\"\"\"\n",
    "/nampak muka depan\n",
    "\n",
    "@author: abhilash\n",
    "\"\"\"\n",
    "#importing the required libraries\n",
    "import cv2\n",
    "import face_recognition\n",
    "import os\n",
    "\n",
    "print(os.getcwd())\n",
    "\n",
    "#loading the image to detect\n",
    "original_image = cv2.imread('pipit/blur.jpeg')\n",
    "\n",
    "#load the sample images and get the 128 face embeddings from them\n",
    "pipit_image = face_recognition.load_image_file('pipit/depan.jpeg')\n",
    "pipit_face_encodings = face_recognition.face_encodings(pipit_image)[0]\n",
    "\n",
    "\n",
    "#save the encodings and the corresponding labels in seperate arrays in the same order\n",
    "known_face_encodings = [pipit_face_encodings]\n",
    "known_face_names = [\"Fitriyani Soleha-562020120005\"]\n",
    "\n",
    "#load the unknown image to recognize faces in it\n",
    "image_to_recognize = face_recognition.load_image_file('pipit/belakang.jpeg')\n",
    "\n",
    "#detect all faces in the image\n",
    "#arguments are image,no_of_times_to_upsample, model\n",
    "all_face_locations = face_recognition.face_locations(image_to_recognize,model='hog')\n",
    "#detect face encodings for all the faces detected\n",
    "all_face_encodings = face_recognition.face_encodings(image_to_recognize,all_face_locations)\n",
    "\n",
    "#print the number of faces detected\n",
    "print('There are {} no of faces in this image'.format(len(all_face_locations)))\n",
    "\n",
    "#looping through the face locations and the face embeddings\n",
    "for current_face_location,current_face_encoding in zip(all_face_locations,all_face_encodings):\n",
    "    #splitting the tuple to get the four position values of current face\n",
    "    top_pos,right_pos,bottom_pos,left_pos = current_face_location\n",
    "    \n",
    "    \n",
    "    #find all the matches and get the list of matches\n",
    "    all_matches = face_recognition.compare_faces(known_face_encodings, current_face_encoding)\n",
    "   \n",
    "    #string to hold the label\n",
    "    name_of_person = 'Unknown face'\n",
    "    \n",
    "    #check if the all_matches have at least pipit item\n",
    "    #if yes, get the index number of face that is located in the first index of all_matches\n",
    "    #get the name corresponding to the index number and save it in name_of_person\n",
    "    if True in all_matches:\n",
    "        first_match_index = all_matches.index(True)\n",
    "        name_of_person = known_face_names[first_match_index]\n",
    "    \n",
    "    #draw rectangle around the face    \n",
    "    cv2.rectangle(original_image,(left_pos,top_pos),(right_pos,bottom_pos),(255,0,0),2)\n",
    "    \n",
    "    #display the name as text in the image\n",
    "    font = cv2.FONT_HERSHEY_DUPLEX\n",
    "    cv2.putText(original_image, name_of_person, (left_pos,bottom_pos), font, 0.5, (255,255,255),1)\n",
    "    \n",
    "    #display the image\n",
    "    cv2.imshow(\"Faces Identified\",original_image)\n",
    "cv2.waitKey(0); cv2.destroyAllWindows(); cv2.waitKey(1)\n",
    "\n"
   ]
  },
  {
   "cell_type": "code",
   "execution_count": null,
   "id": "185d70c2-d2e5-4680-bfb9-ec147b97dd3f",
   "metadata": {},
   "outputs": [],
   "source": []
  },
  {
   "cell_type": "code",
   "execution_count": null,
   "id": "a5644e1a-65c9-4965-87bc-d2abea3d231d",
   "metadata": {},
   "outputs": [],
   "source": []
  }
 ],
 "metadata": {
  "kernelspec": {
   "display_name": "Python 3 (ipykernel)",
   "language": "python",
   "name": "python3"
  },
  "language_info": {
   "codemirror_mode": {
    "name": "ipython",
    "version": 3
   },
   "file_extension": ".py",
   "mimetype": "text/x-python",
   "name": "python",
   "nbconvert_exporter": "python",
   "pygments_lexer": "ipython3",
   "version": "3.10.4"
  }
 },
 "nbformat": 4,
 "nbformat_minor": 5
}
